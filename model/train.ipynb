{
  "cells": [
    {
      "cell_type": "code",
      "execution_count": 13,
      "metadata": {
        "id": "O4y5BKiP26AF"
      },
      "outputs": [],
      "source": []
    },
    {
      "cell_type": "code",
      "execution_count": null,
      "metadata": {
        "id": "jNKX4sHOEb11"
      },
      "outputs": [],
      "source": [
        "import pandas as pd\n",
        "import numpy as np\n",
        "from sklearn.datasets import load_breast_cancer\n",
        "from sklearn.model_selection import train_test_split\n",
        "from sklearn.preprocessing import StandardScaler\n",
        "from sklearn.ensemble import RandomForestClassifier\n",
        "from sklearn.metrics import accuracy_score, classification_report, confusion_matrix\n",
        "import joblib # For saving the model and scaler\n"
      ]
    },
    {
      "cell_type": "code",
      "execution_count": 5,
      "metadata": {
        "id": "sxLEcZy1EfgQ"
      },
      "outputs": [],
      "source": [
        "cancer = load_breast_cancer()\n",
        "X = pd.DataFrame(cancer.data, columns=cancer.feature_names)\n",
        "y = cancer.target # 0 for malignant, 1 for benign"
      ]
    },
    {
      "cell_type": "code",
      "execution_count": 4,
      "metadata": {
        "colab": {
          "base_uri": "https://localhost:8080/"
        },
        "id": "rj5ZT3QFEplJ",
        "outputId": "427aa727-ff52-4af9-ae0d-55047a765cc3"
      },
      "outputs": [
        {
          "name": "stdout",
          "output_type": "stream",
          "text": [
            "   mean radius  mean texture  mean perimeter  mean area  mean smoothness  \\\n",
            "0        17.99         10.38          122.80     1001.0          0.11840   \n",
            "1        20.57         17.77          132.90     1326.0          0.08474   \n",
            "2        19.69         21.25          130.00     1203.0          0.10960   \n",
            "3        11.42         20.38           77.58      386.1          0.14250   \n",
            "4        20.29         14.34          135.10     1297.0          0.10030   \n",
            "\n",
            "   mean compactness  mean concavity  mean concave points  mean symmetry  \\\n",
            "0           0.27760          0.3001              0.14710         0.2419   \n",
            "1           0.07864          0.0869              0.07017         0.1812   \n",
            "2           0.15990          0.1974              0.12790         0.2069   \n",
            "3           0.28390          0.2414              0.10520         0.2597   \n",
            "4           0.13280          0.1980              0.10430         0.1809   \n",
            "\n",
            "   mean fractal dimension  ...  worst radius  worst texture  worst perimeter  \\\n",
            "0                 0.07871  ...         25.38          17.33           184.60   \n",
            "1                 0.05667  ...         24.99          23.41           158.80   \n",
            "2                 0.05999  ...         23.57          25.53           152.50   \n",
            "3                 0.09744  ...         14.91          26.50            98.87   \n",
            "4                 0.05883  ...         22.54          16.67           152.20   \n",
            "\n",
            "   worst area  worst smoothness  worst compactness  worst concavity  \\\n",
            "0      2019.0            0.1622             0.6656           0.7119   \n",
            "1      1956.0            0.1238             0.1866           0.2416   \n",
            "2      1709.0            0.1444             0.4245           0.4504   \n",
            "3       567.7            0.2098             0.8663           0.6869   \n",
            "4      1575.0            0.1374             0.2050           0.4000   \n",
            "\n",
            "   worst concave points  worst symmetry  worst fractal dimension  \n",
            "0                0.2654          0.4601                  0.11890  \n",
            "1                0.1860          0.2750                  0.08902  \n",
            "2                0.2430          0.3613                  0.08758  \n",
            "3                0.2575          0.6638                  0.17300  \n",
            "4                0.1625          0.2364                  0.07678  \n",
            "\n",
            "[5 rows x 30 columns]\n"
          ]
        }
      ],
      "source": [
        "print(X.head())"
      ]
    },
    {
      "cell_type": "code",
      "execution_count": 3,
      "metadata": {
        "colab": {
          "base_uri": "https://localhost:8080/"
        },
        "id": "0hd13hEIEjWU",
        "outputId": "b4f5c5fe-916b-4904-be5b-022b7ee350f6"
      },
      "outputs": [
        {
          "name": "stdout",
          "output_type": "stream",
          "text": [
            "--- Dataset Information ---\n",
            "Features (X) shape: (569, 30)\n",
            "Target (y) shape: (569,)\n",
            "Target names: ['malignant' 'benign']\n",
            "Feature names: ['mean radius', 'mean texture', 'mean perimeter', 'mean area', 'mean smoothness', 'mean compactness', 'mean concavity', 'mean concave points', 'mean symmetry', 'mean fractal dimension', 'radius error', 'texture error', 'perimeter error', 'area error', 'smoothness error', 'compactness error', 'concavity error', 'concave points error', 'symmetry error', 'fractal dimension error', 'worst radius', 'worst texture', 'worst perimeter', 'worst area', 'worst smoothness', 'worst compactness', 'worst concavity', 'worst concave points', 'worst symmetry', 'worst fractal dimension']\n",
            "\n",
            "First 5 rows of features (X):\n",
            "\n",
            "Target distribution:\n"
          ]
        }
      ],
      "source": [
        "print(\"--- Dataset Information ---\")\n",
        "print(f\"Features (X) shape: {X.shape}\")\n",
        "print(f\"Target (y) shape: {y.shape}\")\n",
        "print(f\"Target names: {cancer.target_names}\")\n",
        "print(f\"Feature names: {list(X.columns)}\")\n",
        "print(\"\\nFirst 5 rows of features (X):\")\n",
        "\n",
        "print(\"\\nTarget distribution:\")"
      ]
    },
    {
      "cell_type": "code",
      "execution_count": 6,
      "metadata": {
        "colab": {
          "base_uri": "https://localhost:8080/"
        },
        "id": "YufPPuT_EvxU",
        "outputId": "574c6e9a-b077-4b59-9a59-3b32826cb16e"
      },
      "outputs": [
        {
          "name": "stdout",
          "output_type": "stream",
          "text": [
            "X_train shape: (455, 30)\n",
            "X_test shape: (114, 30)\n",
            "y_train shape: (455,)\n",
            "y_test shape: (114,)\n"
          ]
        }
      ],
      "source": [
        "X_train, X_test, y_train, y_test = train_test_split(X, y, test_size=0.2, random_state=42, stratify=y)\n",
        "\n",
        "print(f\"X_train shape: {X_train.shape}\")\n",
        "print(f\"X_test shape: {X_test.shape}\")\n",
        "print(f\"y_train shape: {y_train.shape}\")\n",
        "print(f\"y_test shape: {y_test.shape}\")"
      ]
    },
    {
      "cell_type": "code",
      "execution_count": 8,
      "metadata": {
        "colab": {
          "base_uri": "https://localhost:8080/"
        },
        "id": "cDcHlzzWE3kr",
        "outputId": "5edd07e0-7592-4c37-cd19-66f0fed793f0"
      },
      "outputs": [
        {
          "name": "stdout",
          "output_type": "stream",
          "text": [
            "   mean radius  mean texture  mean perimeter  mean area  mean smoothness  \\\n",
            "0    -1.072001     -0.658425       -1.088080  -0.939274        -0.135940   \n",
            "1     1.748743      0.066502        1.751157   1.745559         1.274468   \n",
            "2    -0.974734     -0.931124       -0.997709  -0.867589        -0.613515   \n",
            "3    -0.145103     -1.215186       -0.123013  -0.253192         0.664482   \n",
            "4    -0.771617     -0.081211       -0.803700  -0.732927        -0.672282   \n",
            "\n",
            "   mean compactness  mean concavity  mean concave points  mean symmetry  \\\n",
            "0         -1.008718       -0.968359            -1.102032       0.281062   \n",
            "1          0.842288        1.519852             1.994664      -0.293045   \n",
            "2         -1.138154       -1.092292            -1.243358       0.434395   \n",
            "3          0.286762       -0.129729            -0.098605       0.555635   \n",
            "4         -1.006099       -0.798502            -0.684484       0.737495   \n",
            "\n",
            "   mean fractal dimension  ...  worst radius  worst texture  worst perimeter  \\\n",
            "0               -0.113231  ...     -1.034094      -0.623497        -1.070773   \n",
            "1               -0.320180  ...      1.228342      -0.092833         1.187467   \n",
            "2               -0.429247  ...     -0.973231      -1.036772        -1.008044   \n",
            "3                0.029395  ...     -0.251266      -1.369643        -0.166633   \n",
            "4               -0.457213  ...     -0.801135       0.079230        -0.824381   \n",
            "\n",
            "   worst area  worst smoothness  worst compactness  worst concavity  \\\n",
            "0   -0.876534         -0.169982          -1.038836        -1.078995   \n",
            "1    1.104386          1.517001           0.249655         1.178594   \n",
            "2   -0.834168         -1.097823          -1.167260        -1.282241   \n",
            "3   -0.330292          0.234006           0.096874        -0.087521   \n",
            "4   -0.741830         -0.911367          -0.984612        -0.933190   \n",
            "\n",
            "   worst concave points  worst symmetry  worst fractal dimension  \n",
            "0             -1.350527       -0.352658                -0.541380  \n",
            "1              1.549916        0.191078                -0.173739  \n",
            "2             -1.707442       -0.307734                -1.213033  \n",
            "3             -0.344838        0.242198                -0.118266  \n",
            "4             -0.777604        0.555118                -0.761639  \n",
            "\n",
            "[5 rows x 30 columns]\n"
          ]
        }
      ],
      "source": [
        "scaler = StandardScaler()\n",
        "X_train_scaled = scaler.fit_transform(X_train)\n",
        "X_test_scaled = scaler.transform(X_test)\n",
        "\n",
        "# Convert scaled arrays back to DataFrames for easier inspection\n",
        "X_train_scaled_df = pd.DataFrame(X_train_scaled, columns=X_train.columns)\n",
        "X_test_scaled_df = pd.DataFrame(X_test_scaled, columns=X_test.columns)\n",
        "\n",
        "\n",
        "print(X_train_scaled_df.head())\n"
      ]
    },
    {
      "cell_type": "code",
      "execution_count": 9,
      "metadata": {
        "colab": {
          "base_uri": "https://localhost:8080/"
        },
        "id": "sgbz5FmqE8Tp",
        "outputId": "982a03ff-b626-4f78-9992-b1b77ba59e4b"
      },
      "outputs": [
        {
          "name": "stdout",
          "output_type": "stream",
          "text": [
            "\n",
            "--- Training Model ---\n",
            "Model training complete.\n"
          ]
        }
      ],
      "source": [
        "\n",
        "# use RandomForestClassifier\n",
        "model = RandomForestClassifier(n_estimators=100, random_state=42, class_weight='balanced')\n",
        "# n_estimators: number of trees in the forest\n",
        "# random_state: for reproducibility\n",
        "\n",
        "\n",
        "print(\"\\n--- Training Model ---\")\n",
        "model.fit(X_train_scaled, y_train)\n",
        "print(\"Model training complete.\")\n"
      ]
    },
    {
      "cell_type": "code",
      "execution_count": 10,
      "metadata": {
        "id": "efX2iThEFUCq"
      },
      "outputs": [],
      "source": [
        "y_pred_test = model.predict(X_test_scaled)\n",
        "y_pred_train = model.predict(X_train_scaled)"
      ]
    },
    {
      "cell_type": "code",
      "execution_count": 11,
      "metadata": {
        "colab": {
          "base_uri": "https://localhost:8080/"
        },
        "id": "GIT-kMYRFT6L",
        "outputId": "b99f760a-6143-4ee7-b2d3-d17b38cb974e"
      },
      "outputs": [
        {
          "name": "stdout",
          "output_type": "stream",
          "text": [
            "Training Accuracy: 1.0000\n",
            "Test Accuracy: 0.9474\n"
          ]
        }
      ],
      "source": [
        "# testing accurecy\n",
        "test_accuracy = accuracy_score(y_test, y_pred_test)\n",
        "train_accuracy = accuracy_score(y_train, y_pred_train)\n",
        "print(f\"Training Accuracy: {train_accuracy:.4f}\")\n",
        "print(f\"Test Accuracy: {test_accuracy:.4f}\")"
      ]
    },
    {
      "cell_type": "code",
      "execution_count": 12,
      "metadata": {
        "colab": {
          "base_uri": "https://localhost:8080/"
        },
        "id": "zyI8-KxlFsTK",
        "outputId": "cca10a87-30ee-43a1-83ba-fe405a0e432e"
      },
      "outputs": [
        {
          "name": "stdout",
          "output_type": "stream",
          "text": [
            "[[39  3]\n",
            " [ 3 69]]\n",
            "True Malignant: 39\n",
            "False Positives (Predicted Malignant, Actually Benign): 3\n",
            "False Negatives (Predicted Benign, Actually Malignant): 3\n",
            "True Benign: 69\n"
          ]
        }
      ],
      "source": [
        "cm = confusion_matrix(y_test, y_pred_test)\n",
        "print(cm)\n",
        "print(f\"True Malignant: {cm[0,0]}\")\n",
        "print(f\"False Positives (Predicted Malignant, Actually Benign): {cm[1,0]}\")\n",
        "print(f\"False Negatives (Predicted Benign, Actually Malignant): {cm[0,1]}\") # This is critical to minimize\n",
        "print(f\"True Benign: {cm[1,1]}\")\n"
      ]
    },
    {
      "cell_type": "code",
      "execution_count": null,
      "metadata": {
        "colab": {
          "base_uri": "https://localhost:8080/"
        },
        "id": "15EinfjyFywr",
        "outputId": "00288cc9-ae50-46ac-d9be-5105fea85f1d"
      },
      "outputs": [
        {
          "name": "stdout",
          "output_type": "stream",
          "text": [
            "\n",
            "Model saved as: breast_cancer_rfc_model.joblib\n",
            "Scaler saved as: breast_cancer_scaler.joblib\n",
            "\n",
            "--- Script Finished ---\n"
          ]
        }
      ],
      "source": [
        "model_filename = 'breast_cancer_rfc_model.joblib'\n",
        "scaler_filename = 'breast_cancer_scaler.joblib'\n",
        "\n",
        "joblib.dump(model, model_filename)\n",
        "joblib.dump(scaler, scaler_filename)\n",
        "\n",
        "print(f\"\\nModel saved as: {model_filename}\")\n",
        "print(f\"Scaler saved as: {scaler_filename}\")\n",
        "print(\"\\n--- Script Finished ---\")\n"
      ]
    }
  ],
  "metadata": {
    "colab": {
      "provenance": []
    },
    "kernelspec": {
      "display_name": "Python 3",
      "name": "python3"
    },
    "language_info": {
      "name": "python"
    }
  },
  "nbformat": 4,
  "nbformat_minor": 0
}
